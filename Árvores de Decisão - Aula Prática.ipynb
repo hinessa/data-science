{
 "cells": [
  {
   "cell_type": "markdown",
   "metadata": {},
   "source": [
    "## Exercício - Árvores de Decisão"
   ]
  },
  {
   "cell_type": "markdown",
   "metadata": {},
   "source": [
    "Neste exercício você irá colocar em prática seus conhecimentos em classificação com árvores de decisão utilizando o scikit-learn. Você irá o dataset disponível em: https://www.kaggle.com/ronitf/heart-disease-uci. \n",
    "\n",
    "Baseando-se no tutorial apresentado em sala de aula, realize as seguintes tarefas: \n",
    "    \n",
    "<p>\n",
    "\n",
    "    1 - Carregue o dataset.\n",
    "    2 - Faça um histograma dos atributos presentes no dataset (dica: utilize o método hist do matplotlib).\n",
    "    O que você pode perceber analisando o histograma? Os dados seguem algum padrão na sua distribuição? O atributo classe é balanceado?\n",
    "    3 - Divida o dataset em atributos (X) e classe (Y). \n",
    "    4 - Divida o dataset em conjuntos de treino (80%) e teste (20%).\n",
    "    5 - Crie e treine a sua árvore de decisão. \n",
    "    6 - Faça predições utilizando a árvore criada.\n",
    "    7 - Avalie o algoritmo do modo tradicional (usando os conjuntos de treino e teste) e utilizando o K-fold cross-validation. \n",
    "    8 - Altere os valores da profundidade da árvore (max_depth) e da quantidade de samples para split (min_samples_split) na etapa de treinamento. Faça testes com diversos valores e avalie se existem quedas ou aumentos da acurácia após a alteração desses parâmetros. Não esqueça também de variar a quantidade de conjuntos (n_splits) na etapa do K-fold e avaliar quais são as mudanças na acurácia após as alterações.\n",
    "</p>"
   ]
  }
 ],
 "metadata": {
  "kernelspec": {
   "display_name": "Python 3",
   "language": "python",
   "name": "python3"
  },
  "language_info": {
   "codemirror_mode": {
    "name": "ipython",
    "version": 3
   },
   "file_extension": ".py",
   "mimetype": "text/x-python",
   "name": "python",
   "nbconvert_exporter": "python",
   "pygments_lexer": "ipython3",
   "version": "3.7.0"
  }
 },
 "nbformat": 4,
 "nbformat_minor": 2
}
